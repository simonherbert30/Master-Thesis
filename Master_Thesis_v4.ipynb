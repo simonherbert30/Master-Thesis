{
 "cells": [
  {
   "cell_type": "markdown",
   "metadata": {},
   "source": [
    "Import libraries"
   ]
  },
  {
   "cell_type": "code",
   "execution_count": 32,
   "metadata": {},
   "outputs": [],
   "source": [
    "import pandas as pd\n",
    "import numpy as np\n",
    "import sys\n",
    "import re\n",
    "import os\n",
    "import os.path\n",
    "from re import search\n",
    "from datetime import datetime\n",
    "from os import walk\n",
    "# parent_dir = os.path.abspath(os.path.join(os.getcwd(), '..'))\n",
    "# sys.path.append(parent_dir)\n",
    "# import CDB_Connection as cdb\n",
    "# from sklearn.preprocessing import LabelEncoder\n",
    "# from sklearn.model_selection import train_test_split\n",
    "# from sklearn.metrics import confusion_matrix, classification_report\n",
    "# import tensorflow as tf\n",
    "# from tensorflow.keras import layers, models\n",
    "from matplotlib import pyplot as plt\n",
    "import numpy as np\n",
    "# from sklearn.ensemble import IsolationForest\n",
    "from kmodes.kmodes import KModes\n",
    "import matplotlib.pyplot as plt\n",
    "%matplotlib inline"
   ]
  },
  {
   "cell_type": "markdown",
   "metadata": {},
   "source": [
    "## Datasets"
   ]
  },
  {
   "cell_type": "markdown",
   "metadata": {},
   "source": [
    "### Masterlist"
   ]
  },
  {
   "cell_type": "markdown",
   "metadata": {},
   "source": [
    "#### Read in tables"
   ]
  },
  {
   "cell_type": "code",
   "execution_count": 33,
   "metadata": {},
   "outputs": [],
   "source": [
    "masterlist = pd.read_parquet('C:/Users/Z0176164/OneDrive - ZF Friedrichshafen AG/Master thesis/masterlist.parquet')\n",
    "SE001 = pd.read_parquet(\"C:/Users/Z0176164/OneDrive - ZF Friedrichshafen AG/Master thesis/SE100.parquet\")"
   ]
  },
  {
   "cell_type": "markdown",
   "metadata": {},
   "source": [
    "#### Data transformations"
   ]
  },
  {
   "cell_type": "markdown",
   "metadata": {},
   "source": [
    "Use the first three characters of the Artnr as a column"
   ]
  },
  {
   "cell_type": "code",
   "execution_count": 34,
   "metadata": {},
   "outputs": [
    {
     "data": {
      "text/html": [
       "<div>\n",
       "<style scoped>\n",
       "    .dataframe tbody tr th:only-of-type {\n",
       "        vertical-align: middle;\n",
       "    }\n",
       "\n",
       "    .dataframe tbody tr th {\n",
       "        vertical-align: top;\n",
       "    }\n",
       "\n",
       "    .dataframe thead th {\n",
       "        text-align: right;\n",
       "    }\n",
       "</style>\n",
       "<table border=\"1\" class=\"dataframe\">\n",
       "  <thead>\n",
       "    <tr style=\"text-align: right;\">\n",
       "      <th></th>\n",
       "      <th>brand</th>\n",
       "      <th>artnr</th>\n",
       "      <th>genart_bez_en</th>\n",
       "      <th>vehicle_type</th>\n",
       "      <th>pmva</th>\n",
       "      <th>nettogewicht_kg</th>\n",
       "      <th>laenge_mm</th>\n",
       "      <th>breite_mm</th>\n",
       "      <th>hoehe_mm</th>\n",
       "      <th>volumen_l</th>\n",
       "      <th>Artnr First 3</th>\n",
       "    </tr>\n",
       "  </thead>\n",
       "  <tbody>\n",
       "    <tr>\n",
       "      <th>0</th>\n",
       "      <td>WABCO</td>\n",
       "      <td>9140300020</td>\n",
       "      <td>Brake Valve, trailer</td>\n",
       "      <td>None</td>\n",
       "      <td>0100</td>\n",
       "      <td>None</td>\n",
       "      <td>None</td>\n",
       "      <td>None</td>\n",
       "      <td>None</td>\n",
       "      <td>None</td>\n",
       "      <td>914</td>\n",
       "    </tr>\n",
       "    <tr>\n",
       "      <th>1</th>\n",
       "      <td>SACHS</td>\n",
       "      <td>1888 600 132</td>\n",
       "      <td>Clutch Pressure Plate</td>\n",
       "      <td>Tractor</td>\n",
       "      <td>0100</td>\n",
       "      <td>34,16</td>\n",
       "      <td>496</td>\n",
       "      <td>461</td>\n",
       "      <td>162</td>\n",
       "      <td>37,042</td>\n",
       "      <td>188</td>\n",
       "    </tr>\n",
       "    <tr>\n",
       "      <th>2</th>\n",
       "      <td>LEMFÖRDER</td>\n",
       "      <td>27173 01</td>\n",
       "      <td>Tensioner Pulley, timing belt</td>\n",
       "      <td>PC</td>\n",
       "      <td>0100</td>\n",
       "      <td>None</td>\n",
       "      <td>None</td>\n",
       "      <td>None</td>\n",
       "      <td>None</td>\n",
       "      <td>None</td>\n",
       "      <td>271</td>\n",
       "    </tr>\n",
       "    <tr>\n",
       "      <th>3</th>\n",
       "      <td>TRW</td>\n",
       "      <td>BHT266E</td>\n",
       "      <td>Brake Caliper</td>\n",
       "      <td>PC</td>\n",
       "      <td>T001</td>\n",
       "      <td>None</td>\n",
       "      <td>None</td>\n",
       "      <td>None</td>\n",
       "      <td>None</td>\n",
       "      <td>None</td>\n",
       "      <td>BHT</td>\n",
       "    </tr>\n",
       "    <tr>\n",
       "      <th>4</th>\n",
       "      <td>SACHS</td>\n",
       "      <td>997 696</td>\n",
       "      <td>Suspension Spring</td>\n",
       "      <td>PC</td>\n",
       "      <td>0100</td>\n",
       "      <td>4,66</td>\n",
       "      <td>564</td>\n",
       "      <td>201</td>\n",
       "      <td>201</td>\n",
       "      <td>22,786</td>\n",
       "      <td>997</td>\n",
       "    </tr>\n",
       "  </tbody>\n",
       "</table>\n",
       "</div>"
      ],
      "text/plain": [
       "       brand         artnr                  genart_bez_en vehicle_type  pmva  \\\n",
       "0      WABCO    9140300020           Brake Valve, trailer         None  0100   \n",
       "1      SACHS  1888 600 132          Clutch Pressure Plate      Tractor  0100   \n",
       "2  LEMFÖRDER      27173 01  Tensioner Pulley, timing belt           PC  0100   \n",
       "3        TRW       BHT266E                  Brake Caliper           PC  T001   \n",
       "4      SACHS       997 696              Suspension Spring           PC  0100   \n",
       "\n",
       "  nettogewicht_kg laenge_mm breite_mm hoehe_mm volumen_l Artnr First 3  \n",
       "0            None      None      None     None      None           914  \n",
       "1           34,16       496       461      162    37,042           188  \n",
       "2            None      None      None     None      None           271  \n",
       "3            None      None      None     None      None           BHT  \n",
       "4            4,66       564       201      201    22,786           997  "
      ]
     },
     "execution_count": 34,
     "metadata": {},
     "output_type": "execute_result"
    }
   ],
   "source": [
    "masterlist[\"Artnr First 3\"] = masterlist['artnr'].str[0:3]\n",
    "masterlist.head(5)"
   ]
  },
  {
   "cell_type": "markdown",
   "metadata": {},
   "source": [
    "For now we get rid of the numeric columns"
   ]
  },
  {
   "cell_type": "code",
   "execution_count": 35,
   "metadata": {},
   "outputs": [],
   "source": [
    "masterlist = masterlist.drop(columns=['nettogewicht_kg','laenge_mm','breite_mm','hoehe_mm','volumen_l'])"
   ]
  },
  {
   "cell_type": "markdown",
   "metadata": {},
   "source": [
    "Rename some columns"
   ]
  },
  {
   "cell_type": "code",
   "execution_count": 36,
   "metadata": {},
   "outputs": [],
   "source": [
    "masterlist_renamed = masterlist.rename(columns={'genart_bez_en':'Genart description',\n",
    "                           'vehicle_type':'Vehicle Type',\n",
    "                           'pmva':'PMVA',\n",
    "                           'brand':'Brand',\n",
    "                           'artnr':'Artnr'})"
   ]
  },
  {
   "cell_type": "markdown",
   "metadata": {},
   "source": [
    "Convert the column vehicle type into dummy variables"
   ]
  },
  {
   "cell_type": "code",
   "execution_count": 37,
   "metadata": {},
   "outputs": [
    {
     "data": {
      "text/html": [
       "<div>\n",
       "<style scoped>\n",
       "    .dataframe tbody tr th:only-of-type {\n",
       "        vertical-align: middle;\n",
       "    }\n",
       "\n",
       "    .dataframe tbody tr th {\n",
       "        vertical-align: top;\n",
       "    }\n",
       "\n",
       "    .dataframe thead th {\n",
       "        text-align: right;\n",
       "    }\n",
       "</style>\n",
       "<table border=\"1\" class=\"dataframe\">\n",
       "  <thead>\n",
       "    <tr style=\"text-align: right;\">\n",
       "      <th></th>\n",
       "      <th>Artnr</th>\n",
       "      <th>Artnr First 3</th>\n",
       "      <th>Brand</th>\n",
       "      <th>Genart description</th>\n",
       "      <th>PMVA</th>\n",
       "      <th>Axle</th>\n",
       "      <th>Truck</th>\n",
       "      <th>Tractor</th>\n",
       "      <th>PC</th>\n",
       "      <th>Bus</th>\n",
       "    </tr>\n",
       "  </thead>\n",
       "  <tbody>\n",
       "    <tr>\n",
       "      <th>0</th>\n",
       "      <td>9140300020</td>\n",
       "      <td>914</td>\n",
       "      <td>WABCO</td>\n",
       "      <td>Brake Valve, trailer</td>\n",
       "      <td>0100</td>\n",
       "      <td>0</td>\n",
       "      <td>0</td>\n",
       "      <td>0</td>\n",
       "      <td>0</td>\n",
       "      <td>0</td>\n",
       "    </tr>\n",
       "    <tr>\n",
       "      <th>1</th>\n",
       "      <td>1888 600 132</td>\n",
       "      <td>188</td>\n",
       "      <td>SACHS</td>\n",
       "      <td>Clutch Pressure Plate</td>\n",
       "      <td>0100</td>\n",
       "      <td>0</td>\n",
       "      <td>0</td>\n",
       "      <td>1</td>\n",
       "      <td>0</td>\n",
       "      <td>0</td>\n",
       "    </tr>\n",
       "    <tr>\n",
       "      <th>2</th>\n",
       "      <td>27173 01</td>\n",
       "      <td>271</td>\n",
       "      <td>LEMFÖRDER</td>\n",
       "      <td>Tensioner Pulley, timing belt</td>\n",
       "      <td>0100</td>\n",
       "      <td>0</td>\n",
       "      <td>0</td>\n",
       "      <td>0</td>\n",
       "      <td>1</td>\n",
       "      <td>0</td>\n",
       "    </tr>\n",
       "    <tr>\n",
       "      <th>3</th>\n",
       "      <td>BHT266E</td>\n",
       "      <td>BHT</td>\n",
       "      <td>TRW</td>\n",
       "      <td>Brake Caliper</td>\n",
       "      <td>T001</td>\n",
       "      <td>0</td>\n",
       "      <td>0</td>\n",
       "      <td>0</td>\n",
       "      <td>1</td>\n",
       "      <td>0</td>\n",
       "    </tr>\n",
       "    <tr>\n",
       "      <th>4</th>\n",
       "      <td>997 696</td>\n",
       "      <td>997</td>\n",
       "      <td>SACHS</td>\n",
       "      <td>Suspension Spring</td>\n",
       "      <td>0100</td>\n",
       "      <td>0</td>\n",
       "      <td>0</td>\n",
       "      <td>0</td>\n",
       "      <td>1</td>\n",
       "      <td>0</td>\n",
       "    </tr>\n",
       "  </tbody>\n",
       "</table>\n",
       "</div>"
      ],
      "text/plain": [
       "          Artnr Artnr First 3      Brand             Genart description  PMVA  \\\n",
       "0    9140300020           914      WABCO           Brake Valve, trailer  0100   \n",
       "1  1888 600 132           188      SACHS          Clutch Pressure Plate  0100   \n",
       "2      27173 01           271  LEMFÖRDER  Tensioner Pulley, timing belt  0100   \n",
       "3       BHT266E           BHT        TRW                  Brake Caliper  T001   \n",
       "4       997 696           997      SACHS              Suspension Spring  0100   \n",
       "\n",
       "   Axle  Truck  Tractor  PC  Bus  \n",
       "0     0      0        0   0    0  \n",
       "1     0      0        1   0    0  \n",
       "2     0      0        0   1    0  \n",
       "3     0      0        0   1    0  \n",
       "4     0      0        0   1    0  "
      ]
     },
     "execution_count": 37,
     "metadata": {},
     "output_type": "execute_result"
    }
   ],
   "source": [
    "# Define a function to create dummy columns\n",
    "def create_dummy_columns(df):\n",
    "    # Extract the original columns\n",
    "    original_columns = df.columns.tolist()\n",
    "    original_columns.remove('Vehicle Type')  # Exclude 'Vehicle Type' from original columns\n",
    "    \n",
    "    # Create a set to store all unique values in the series\n",
    "    unique_values = set()\n",
    "    \n",
    "    # Iterate over each row to extract unique values\n",
    "    for value in df['Vehicle Type']:\n",
    "        if value is not None:\n",
    "            unique_values.update(value.split(', '))\n",
    "    \n",
    "    # Create dummy columns for each unique value\n",
    "    dummy_columns = {}\n",
    "    for value in unique_values:\n",
    "        dummy_columns[value] = df['Vehicle Type'].apply(lambda x: 1 if (x is not None and value in x.split(', ')) else 0)\n",
    "    \n",
    "    # Combine dummy columns with original columns\n",
    "    df = pd.concat([df, pd.DataFrame(dummy_columns)], axis=1)\n",
    "    \n",
    "    # Drop the 'Vehicle Type' column\n",
    "    df.drop(columns=['Vehicle Type'], inplace=True)\n",
    "    \n",
    "    return df\n",
    "\n",
    "# Call the function to create dummy columns\n",
    "masterlist_with_dummies = create_dummy_columns(masterlist_renamed)\n",
    "\n",
    "masterlist = masterlist_with_dummies[[\"Artnr\",\"Artnr First 3\",\"Brand\",\"Genart description\",\"PMVA\",\n",
    "                        \"Axle\",\"Truck\",\"Tractor\",\"PC\",\"Bus\"]]\n",
    "\n",
    "masterlist.head(5)"
   ]
  },
  {
   "cell_type": "markdown",
   "metadata": {},
   "source": [
    "Number of articles"
   ]
  },
  {
   "cell_type": "code",
   "execution_count": 38,
   "metadata": {},
   "outputs": [
    {
     "name": "stdout",
     "output_type": "stream",
     "text": [
      "The total number or different articles are:\n",
      "317952\n"
     ]
    }
   ],
   "source": [
    "masterlist_art = masterlist[\"Artnr\"].drop_duplicates()\n",
    "print(\"The total number or different articles are:\")\n",
    "print(masterlist_art.shape[0])"
   ]
  },
  {
   "cell_type": "markdown",
   "metadata": {},
   "source": [
    "Get rid of the Artnr column"
   ]
  },
  {
   "cell_type": "code",
   "execution_count": 39,
   "metadata": {},
   "outputs": [],
   "source": [
    "masterlist = masterlist.drop('Artnr', axis=1)"
   ]
  },
  {
   "cell_type": "markdown",
   "metadata": {},
   "source": [
    "#### Exploratory data analysis"
   ]
  },
  {
   "cell_type": "markdown",
   "metadata": {},
   "source": [
    "Shape dataset"
   ]
  },
  {
   "cell_type": "code",
   "execution_count": 40,
   "metadata": {},
   "outputs": [
    {
     "name": "stdout",
     "output_type": "stream",
     "text": [
      "The shape of the dataset is the following:\n",
      "(321565, 10)\n"
     ]
    }
   ],
   "source": [
    "print(\"The shape of the dataset is the following:\")\n",
    "print(masterlist_with_dummies.shape)"
   ]
  },
  {
   "cell_type": "markdown",
   "metadata": {},
   "source": [
    "Basic statistics"
   ]
  },
  {
   "cell_type": "code",
   "execution_count": 41,
   "metadata": {},
   "outputs": [
    {
     "name": "stdout",
     "output_type": "stream",
     "text": [
      "\n",
      "Frequency count for categorical columns:\n",
      "\n",
      "Brand:\n",
      "Brand\n",
      "TRW                  77619\n",
      "SACHS                56032\n",
      "LEMFÖRDER            52156\n",
      "WABCO                30030\n",
      "LUCAS                27873\n",
      "BOGE                 22764\n",
      "ZF Parts             13024\n",
      "Brake ENGINEERING    12961\n",
      "GIRLING              12658\n",
      "ZF                    5319\n",
      "GABRIEL               3885\n",
      "SACHS Performance      908\n",
      "ProVia                 349\n",
      "Name: count, dtype: int64\n",
      "\n",
      "Artnr:\n",
      "Artnr\n",
      "LLB382T        10\n",
      "LLB382LLPX2    10\n",
      "LLB501         10\n",
      "LLB241LLPX2    10\n",
      "LLB382PX2      10\n",
      "               ..\n",
      "RPFX03180       1\n",
      "SC70150         1\n",
      "BHN819          1\n",
      "18827 02        1\n",
      "FDB1613         1\n",
      "Name: count, Length: 317952, dtype: int64\n",
      "\n",
      "Genart description:\n",
      "Genart description\n",
      "Shock Absorber                        41476\n",
      "Brake Pad Set, disc brake             13139\n",
      "Brake Caliper                         12971\n",
      "Brake Disc                            12954\n",
      "Suspension Spring                     12289\n",
      "                                      ...  \n",
      "Switch, differential lock                 1\n",
      "Wire Brush, brake caliper cleaning        1\n",
      "Back-up Alarm                             1\n",
      "Mounting Lever Set                        1\n",
      "Centering Tool Set, clutch                1\n",
      "Name: count, Length: 1146, dtype: int64\n",
      "\n",
      "PMVA:\n",
      "PMVA\n",
      "0100    129341\n",
      "T001     53639\n",
      "T015     11558\n",
      "2100      8982\n",
      "T007      8442\n",
      "T003      7788\n",
      "T004      6305\n",
      "1200      6121\n",
      "2200      5722\n",
      "9999      4742\n",
      "1300      4256\n",
      "3400      3924\n",
      "T008      3921\n",
      "T014      3815\n",
      "3100      3704\n",
      "T013      1821\n",
      "4200      1779\n",
      "T012      1566\n",
      "T011      1503\n",
      "5100      1425\n",
      "4100      1305\n",
      "T016      1270\n",
      "T010      1243\n",
      "T009      1071\n",
      "1400       648\n",
      "3300       634\n",
      "3900       215\n",
      "T005        87\n",
      "3500        13\n",
      "T002         8\n",
      "3200         6\n",
      "1500         3\n",
      "T017         2\n",
      "T006         1\n",
      "0000         1\n",
      "T019         1\n",
      "Name: count, dtype: int64\n"
     ]
    }
   ],
   "source": [
    "# Frequency count for categorical columns\n",
    "categorical_counts = {}\n",
    "for col in masterlist_with_dummies.columns[0:4]:\n",
    "    categorical_counts[col] = masterlist_with_dummies[col].value_counts()\n",
    "    \n",
    "print(\"\\nFrequency count for categorical columns:\")\n",
    "for col, counts in categorical_counts.items():\n",
    "    print(f\"\\n{col}:\")\n",
    "    print(counts)"
   ]
  },
  {
   "cell_type": "markdown",
   "metadata": {},
   "source": [
    "For now we only run for 100.000 rows of Masterlist otherwise the code runs days..."
   ]
  },
  {
   "cell_type": "code",
   "execution_count": 42,
   "metadata": {},
   "outputs": [],
   "source": [
    "masterlist = masterlist.head(100000)"
   ]
  },
  {
   "cell_type": "markdown",
   "metadata": {},
   "source": [
    "#### Frequency"
   ]
  },
  {
   "cell_type": "code",
   "execution_count": 43,
   "metadata": {},
   "outputs": [],
   "source": [
    "def calculate_frequency(df, row_number):\n",
    "    row = df.iloc[row_number]\n",
    "    total_count = 0\n",
    "    # Iterate over columns starting from the first column\n",
    "    for column in df.columns:\n",
    "        value = row[column] # Get the value\n",
    "        count = (df[column] == value).sum() # Count occurrences in the current column\n",
    "        total_count += count # Add the count to the total count\n",
    "    frequency = total_count / df.size\n",
    "    return row_number, total_count, frequency"
   ]
  },
  {
   "cell_type": "markdown",
   "metadata": {},
   "source": [
    "Example of Frequency calculation for the first row"
   ]
  },
  {
   "cell_type": "code",
   "execution_count": 44,
   "metadata": {},
   "outputs": [
    {
     "name": "stdout",
     "output_type": "stream",
     "text": [
      "The total count for data object 0 is 488304.\n",
      "The Frequency of data object 0 is 0.54256.\n"
     ]
    }
   ],
   "source": [
    "data_object = 0\n",
    "\n",
    "row_number, total_count, frequency = calculate_frequency(masterlist, data_object)\n",
    "\n",
    "print(f\"The total count for data object {row_number} is {total_count}.\")\n",
    "print(f\"The Frequency of data object {row_number} is {frequency}.\")"
   ]
  },
  {
   "cell_type": "markdown",
   "metadata": {},
   "source": [
    "Frequencies for all rows"
   ]
  },
  {
   "cell_type": "code",
   "execution_count": 45,
   "metadata": {},
   "outputs": [
    {
     "data": {
      "text/html": [
       "<div>\n",
       "<style scoped>\n",
       "    .dataframe tbody tr th:only-of-type {\n",
       "        vertical-align: middle;\n",
       "    }\n",
       "\n",
       "    .dataframe tbody tr th {\n",
       "        vertical-align: top;\n",
       "    }\n",
       "\n",
       "    .dataframe thead th {\n",
       "        text-align: right;\n",
       "    }\n",
       "</style>\n",
       "<table border=\"1\" class=\"dataframe\">\n",
       "  <thead>\n",
       "    <tr style=\"text-align: right;\">\n",
       "      <th></th>\n",
       "      <th>i</th>\n",
       "      <th>frequency</th>\n",
       "    </tr>\n",
       "  </thead>\n",
       "  <tbody>\n",
       "    <tr>\n",
       "      <th>0</th>\n",
       "      <td>0</td>\n",
       "      <td>0.542560</td>\n",
       "    </tr>\n",
       "    <tr>\n",
       "      <th>1</th>\n",
       "      <td>1</td>\n",
       "      <td>0.442553</td>\n",
       "    </tr>\n",
       "    <tr>\n",
       "      <th>2</th>\n",
       "      <td>2</td>\n",
       "      <td>0.545972</td>\n",
       "    </tr>\n",
       "    <tr>\n",
       "      <th>3</th>\n",
       "      <td>3</td>\n",
       "      <td>0.533227</td>\n",
       "    </tr>\n",
       "    <tr>\n",
       "      <th>4</th>\n",
       "      <td>4</td>\n",
       "      <td>0.551484</td>\n",
       "    </tr>\n",
       "  </tbody>\n",
       "</table>\n",
       "</div>"
      ],
      "text/plain": [
       "   i  frequency\n",
       "0  0   0.542560\n",
       "1  1   0.442553\n",
       "2  2   0.545972\n",
       "3  3   0.533227\n",
       "4  4   0.551484"
      ]
     },
     "execution_count": 45,
     "metadata": {},
     "output_type": "execute_result"
    }
   ],
   "source": [
    "# Ran for 10 hours (635 min) - exponentially time costly\n",
    "\n",
    "data = []\n",
    "for i, row in masterlist.iterrows():\n",
    "    row_number, total_count, frequency = calculate_frequency(masterlist, i)\n",
    "    data.append({'i': i, 'frequency': frequency})\n",
    "df = pd.DataFrame(data)\n",
    "\n",
    "df.head()"
   ]
  },
  {
   "cell_type": "markdown",
   "metadata": {},
   "source": [
    "Rows with lowest frequencies are Type 1 outliers in the ROAD Algorithm."
   ]
  },
  {
   "cell_type": "markdown",
   "metadata": {},
   "source": [
    "Lowest frequencies..."
   ]
  },
  {
   "cell_type": "code",
   "execution_count": 46,
   "metadata": {},
   "outputs": [
    {
     "data": {
      "text/html": [
       "<div>\n",
       "<style scoped>\n",
       "    .dataframe tbody tr th:only-of-type {\n",
       "        vertical-align: middle;\n",
       "    }\n",
       "\n",
       "    .dataframe tbody tr th {\n",
       "        vertical-align: top;\n",
       "    }\n",
       "\n",
       "    .dataframe thead th {\n",
       "        text-align: right;\n",
       "    }\n",
       "</style>\n",
       "<table border=\"1\" class=\"dataframe\">\n",
       "  <thead>\n",
       "    <tr style=\"text-align: right;\">\n",
       "      <th></th>\n",
       "      <th>i</th>\n",
       "      <th>frequency</th>\n",
       "    </tr>\n",
       "  </thead>\n",
       "  <tbody>\n",
       "    <tr>\n",
       "      <th>27408</th>\n",
       "      <td>27408</td>\n",
       "      <td>0.190917</td>\n",
       "    </tr>\n",
       "    <tr>\n",
       "      <th>48641</th>\n",
       "      <td>48641</td>\n",
       "      <td>0.191753</td>\n",
       "    </tr>\n",
       "    <tr>\n",
       "      <th>80917</th>\n",
       "      <td>80917</td>\n",
       "      <td>0.193254</td>\n",
       "    </tr>\n",
       "    <tr>\n",
       "      <th>50552</th>\n",
       "      <td>50552</td>\n",
       "      <td>0.201130</td>\n",
       "    </tr>\n",
       "    <tr>\n",
       "      <th>66525</th>\n",
       "      <td>66525</td>\n",
       "      <td>0.203178</td>\n",
       "    </tr>\n",
       "  </tbody>\n",
       "</table>\n",
       "</div>"
      ],
      "text/plain": [
       "           i  frequency\n",
       "27408  27408   0.190917\n",
       "48641  48641   0.191753\n",
       "80917  80917   0.193254\n",
       "50552  50552   0.201130\n",
       "66525  66525   0.203178"
      ]
     },
     "execution_count": 46,
     "metadata": {},
     "output_type": "execute_result"
    }
   ],
   "source": [
    "# Row indices with lowest frequencies\n",
    "sorted_df = df.sort_values(by='frequency')\n",
    "df_head = sorted_df.head()\n",
    "df_head"
   ]
  },
  {
   "cell_type": "markdown",
   "metadata": {},
   "source": [
    "... and its row values"
   ]
  },
  {
   "cell_type": "code",
   "execution_count": 47,
   "metadata": {},
   "outputs": [
    {
     "data": {
      "text/html": [
       "<div>\n",
       "<style scoped>\n",
       "    .dataframe tbody tr th:only-of-type {\n",
       "        vertical-align: middle;\n",
       "    }\n",
       "\n",
       "    .dataframe tbody tr th {\n",
       "        vertical-align: top;\n",
       "    }\n",
       "\n",
       "    .dataframe thead th {\n",
       "        text-align: right;\n",
       "    }\n",
       "</style>\n",
       "<table border=\"1\" class=\"dataframe\">\n",
       "  <thead>\n",
       "    <tr style=\"text-align: right;\">\n",
       "      <th></th>\n",
       "      <th>Artnr First 3</th>\n",
       "      <th>Brand</th>\n",
       "      <th>Genart description</th>\n",
       "      <th>PMVA</th>\n",
       "      <th>Axle</th>\n",
       "      <th>Truck</th>\n",
       "      <th>Tractor</th>\n",
       "      <th>PC</th>\n",
       "      <th>Bus</th>\n",
       "    </tr>\n",
       "  </thead>\n",
       "  <tbody>\n",
       "    <tr>\n",
       "      <th>27408</th>\n",
       "      <td>LRT</td>\n",
       "      <td>LUCAS</td>\n",
       "      <td>Starter</td>\n",
       "      <td>None</td>\n",
       "      <td>0</td>\n",
       "      <td>1</td>\n",
       "      <td>1</td>\n",
       "      <td>1</td>\n",
       "      <td>1</td>\n",
       "    </tr>\n",
       "    <tr>\n",
       "      <th>48641</th>\n",
       "      <td>LRS</td>\n",
       "      <td>LUCAS</td>\n",
       "      <td>Starter</td>\n",
       "      <td>None</td>\n",
       "      <td>0</td>\n",
       "      <td>1</td>\n",
       "      <td>1</td>\n",
       "      <td>1</td>\n",
       "      <td>1</td>\n",
       "    </tr>\n",
       "    <tr>\n",
       "      <th>80917</th>\n",
       "      <td>LWH</td>\n",
       "      <td>LUCAS</td>\n",
       "      <td>Wiper Blade</td>\n",
       "      <td>None</td>\n",
       "      <td>0</td>\n",
       "      <td>1</td>\n",
       "      <td>1</td>\n",
       "      <td>0</td>\n",
       "      <td>1</td>\n",
       "    </tr>\n",
       "    <tr>\n",
       "      <th>50552</th>\n",
       "      <td>315</td>\n",
       "      <td>SACHS</td>\n",
       "      <td>Clutch Release Bearing</td>\n",
       "      <td>None</td>\n",
       "      <td>0</td>\n",
       "      <td>1</td>\n",
       "      <td>1</td>\n",
       "      <td>1</td>\n",
       "      <td>1</td>\n",
       "    </tr>\n",
       "    <tr>\n",
       "      <th>66525</th>\n",
       "      <td>186</td>\n",
       "      <td>SACHS</td>\n",
       "      <td>Pilot Bearing, clutch</td>\n",
       "      <td>1200</td>\n",
       "      <td>0</td>\n",
       "      <td>1</td>\n",
       "      <td>1</td>\n",
       "      <td>1</td>\n",
       "      <td>1</td>\n",
       "    </tr>\n",
       "  </tbody>\n",
       "</table>\n",
       "</div>"
      ],
      "text/plain": [
       "      Artnr First 3  Brand      Genart description  PMVA  Axle  Truck  \\\n",
       "27408           LRT  LUCAS                 Starter  None     0      1   \n",
       "48641           LRS  LUCAS                 Starter  None     0      1   \n",
       "80917           LWH  LUCAS             Wiper Blade  None     0      1   \n",
       "50552           315  SACHS  Clutch Release Bearing  None     0      1   \n",
       "66525           186  SACHS   Pilot Bearing, clutch  1200     0      1   \n",
       "\n",
       "       Tractor  PC  Bus  \n",
       "27408        1   1    1  \n",
       "48641        1   1    1  \n",
       "80917        1   0    1  \n",
       "50552        1   1    1  \n",
       "66525        1   1    1  "
      ]
     },
     "execution_count": 47,
     "metadata": {},
     "output_type": "execute_result"
    }
   ],
   "source": [
    "# Selecting lowest frequency rows\n",
    "column_i_values = df_head['i'].tolist()\n",
    "selected_rows = masterlist.iloc[column_i_values]\n",
    "result_df = pd.DataFrame(selected_rows)\n",
    "result_df"
   ]
  },
  {
   "cell_type": "markdown",
   "metadata": {},
   "source": [
    "#### Distance measures"
   ]
  },
  {
   "cell_type": "markdown",
   "metadata": {},
   "source": [
    "##### Jaccard similarity"
   ]
  },
  {
   "cell_type": "markdown",
   "metadata": {},
   "source": [
    "We calculate the jaccard similarity between the first two rows"
   ]
  },
  {
   "cell_type": "code",
   "execution_count": 48,
   "metadata": {},
   "outputs": [
    {
     "name": "stdout",
     "output_type": "stream",
     "text": [
      "Jaccard Similarity between row 0 and row 1 : 0.2222222222222222\n"
     ]
    }
   ],
   "source": [
    "# Rows to compare (index values)\n",
    "row1_index = 0\n",
    "row2_index = 1\n",
    "\n",
    "# Extract values for the two rows\n",
    "row1_values = set(masterlist.iloc[row1_index])\n",
    "row2_values = set(masterlist.iloc[row2_index])\n",
    "\n",
    "# Calculate Jaccard similarity\n",
    "intersection = len(row1_values.intersection(row2_values)) # count the intersection between values in both rows\n",
    "union = len(row1_values.union(row2_values)) # count the union between values in both rows\n",
    "jaccard_similarity = intersection / union\n",
    "\n",
    "print(\"Jaccard Similarity between row\", row1_index, \"and row\", row2_index, \":\", jaccard_similarity)"
   ]
  },
  {
   "cell_type": "markdown",
   "metadata": {},
   "source": [
    "##### Distance data object to cluster"
   ]
  },
  {
   "cell_type": "markdown",
   "metadata": {},
   "source": [
    "We only select 10 rows from our dataset for this example."
   ]
  },
  {
   "cell_type": "code",
   "execution_count": 49,
   "metadata": {},
   "outputs": [
    {
     "data": {
      "text/html": [
       "<div>\n",
       "<style scoped>\n",
       "    .dataframe tbody tr th:only-of-type {\n",
       "        vertical-align: middle;\n",
       "    }\n",
       "\n",
       "    .dataframe tbody tr th {\n",
       "        vertical-align: top;\n",
       "    }\n",
       "\n",
       "    .dataframe thead th {\n",
       "        text-align: right;\n",
       "    }\n",
       "</style>\n",
       "<table border=\"1\" class=\"dataframe\">\n",
       "  <thead>\n",
       "    <tr style=\"text-align: right;\">\n",
       "      <th></th>\n",
       "      <th>Artnr First 3</th>\n",
       "      <th>Brand</th>\n",
       "      <th>Genart description</th>\n",
       "      <th>PMVA</th>\n",
       "      <th>Axle</th>\n",
       "      <th>Truck</th>\n",
       "      <th>Tractor</th>\n",
       "      <th>PC</th>\n",
       "      <th>Bus</th>\n",
       "    </tr>\n",
       "  </thead>\n",
       "  <tbody>\n",
       "    <tr>\n",
       "      <th>0</th>\n",
       "      <td>201</td>\n",
       "      <td>LEMFÖRDER</td>\n",
       "      <td>Bellow Kit, drive shaft</td>\n",
       "      <td>None</td>\n",
       "      <td>0</td>\n",
       "      <td>0</td>\n",
       "      <td>0</td>\n",
       "      <td>0</td>\n",
       "      <td>0</td>\n",
       "    </tr>\n",
       "    <tr>\n",
       "      <th>1</th>\n",
       "      <td>32-</td>\n",
       "      <td>BOGE</td>\n",
       "      <td>Shock Absorber</td>\n",
       "      <td>0100</td>\n",
       "      <td>0</td>\n",
       "      <td>0</td>\n",
       "      <td>0</td>\n",
       "      <td>1</td>\n",
       "      <td>0</td>\n",
       "    </tr>\n",
       "    <tr>\n",
       "      <th>2</th>\n",
       "      <td>LRS</td>\n",
       "      <td>LUCAS</td>\n",
       "      <td>Starter</td>\n",
       "      <td>None</td>\n",
       "      <td>0</td>\n",
       "      <td>0</td>\n",
       "      <td>0</td>\n",
       "      <td>1</td>\n",
       "      <td>0</td>\n",
       "    </tr>\n",
       "    <tr>\n",
       "      <th>3</th>\n",
       "      <td>88-</td>\n",
       "      <td>BOGE</td>\n",
       "      <td>Suspension Strut Support Mount</td>\n",
       "      <td>0100</td>\n",
       "      <td>0</td>\n",
       "      <td>0</td>\n",
       "      <td>0</td>\n",
       "      <td>1</td>\n",
       "      <td>0</td>\n",
       "    </tr>\n",
       "    <tr>\n",
       "      <th>4</th>\n",
       "      <td>316</td>\n",
       "      <td>SACHS</td>\n",
       "      <td>Shock Absorber</td>\n",
       "      <td>4100</td>\n",
       "      <td>0</td>\n",
       "      <td>0</td>\n",
       "      <td>0</td>\n",
       "      <td>0</td>\n",
       "      <td>0</td>\n",
       "    </tr>\n",
       "    <tr>\n",
       "      <th>5</th>\n",
       "      <td>LEB</td>\n",
       "      <td>LUCAS</td>\n",
       "      <td>Lambda Sensor</td>\n",
       "      <td>None</td>\n",
       "      <td>0</td>\n",
       "      <td>0</td>\n",
       "      <td>0</td>\n",
       "      <td>1</td>\n",
       "      <td>0</td>\n",
       "    </tr>\n",
       "    <tr>\n",
       "      <th>6</th>\n",
       "      <td>PA1</td>\n",
       "      <td>Brake ENGINEERING</td>\n",
       "      <td>Brake Pad Set, disc brake</td>\n",
       "      <td>T015</td>\n",
       "      <td>0</td>\n",
       "      <td>0</td>\n",
       "      <td>0</td>\n",
       "      <td>1</td>\n",
       "      <td>0</td>\n",
       "    </tr>\n",
       "    <tr>\n",
       "      <th>7</th>\n",
       "      <td>900</td>\n",
       "      <td>GIRLING</td>\n",
       "      <td>Brake Hose</td>\n",
       "      <td>T001</td>\n",
       "      <td>0</td>\n",
       "      <td>0</td>\n",
       "      <td>0</td>\n",
       "      <td>1</td>\n",
       "      <td>0</td>\n",
       "    </tr>\n",
       "    <tr>\n",
       "      <th>8</th>\n",
       "      <td>GDB</td>\n",
       "      <td>TRW</td>\n",
       "      <td>Brake Pad Set, disc brake</td>\n",
       "      <td>T001</td>\n",
       "      <td>0</td>\n",
       "      <td>0</td>\n",
       "      <td>0</td>\n",
       "      <td>1</td>\n",
       "      <td>0</td>\n",
       "    </tr>\n",
       "    <tr>\n",
       "      <th>9</th>\n",
       "      <td>996</td>\n",
       "      <td>SACHS</td>\n",
       "      <td>Suspension Spring</td>\n",
       "      <td>None</td>\n",
       "      <td>0</td>\n",
       "      <td>0</td>\n",
       "      <td>0</td>\n",
       "      <td>0</td>\n",
       "      <td>0</td>\n",
       "    </tr>\n",
       "  </tbody>\n",
       "</table>\n",
       "</div>"
      ],
      "text/plain": [
       "  Artnr First 3              Brand              Genart description  PMVA  \\\n",
       "0           201          LEMFÖRDER         Bellow Kit, drive shaft  None   \n",
       "1           32-               BOGE                  Shock Absorber  0100   \n",
       "2           LRS              LUCAS                         Starter  None   \n",
       "3           88-               BOGE  Suspension Strut Support Mount  0100   \n",
       "4           316              SACHS                  Shock Absorber  4100   \n",
       "5           LEB              LUCAS                   Lambda Sensor  None   \n",
       "6           PA1  Brake ENGINEERING       Brake Pad Set, disc brake  T015   \n",
       "7           900            GIRLING                      Brake Hose  T001   \n",
       "8           GDB                TRW       Brake Pad Set, disc brake  T001   \n",
       "9           996              SACHS               Suspension Spring  None   \n",
       "\n",
       "   Axle  Truck  Tractor  PC  Bus  \n",
       "0     0      0        0   0    0  \n",
       "1     0      0        0   1    0  \n",
       "2     0      0        0   1    0  \n",
       "3     0      0        0   1    0  \n",
       "4     0      0        0   0    0  \n",
       "5     0      0        0   1    0  \n",
       "6     0      0        0   1    0  \n",
       "7     0      0        0   1    0  \n",
       "8     0      0        0   1    0  \n",
       "9     0      0        0   0    0  "
      ]
     },
     "execution_count": 49,
     "metadata": {},
     "output_type": "execute_result"
    }
   ],
   "source": [
    "masterlist_small = masterlist.sample(10).reset_index(drop=True)\n",
    "masterlist_small"
   ]
  },
  {
   "cell_type": "markdown",
   "metadata": {},
   "source": [
    "We assume the first 9 data object (index 0-8) are a cluster and data object 0 is the centroid of the cluster.\n",
    "Now the question is what is the distance from object 9 to the cluster according to the distance measure in formula 2."
   ]
  },
  {
   "cell_type": "markdown",
   "metadata": {},
   "source": [
    "Calculate $f(x_{i,r}|C_{z})$"
   ]
  },
  {
   "cell_type": "code",
   "execution_count": 50,
   "metadata": {},
   "outputs": [],
   "source": [
    "def calculate_attribute_freq(r):\n",
    "    count = (masterlist_small.iloc[:,r] == masterlist_small.iloc[0,r]).sum()\n",
    "    freq = count / masterlist_small.shape[0] # divide the frequency count by the number of observations\n",
    "    return freq"
   ]
  },
  {
   "cell_type": "markdown",
   "metadata": {},
   "source": [
    "Calculate $ϕ(x_{i,r},c_{z,r})$"
   ]
  },
  {
   "cell_type": "code",
   "execution_count": 51,
   "metadata": {},
   "outputs": [],
   "source": [
    "def calculate_ϕ(r):\n",
    "    if masterlist_small.iloc[0,r] == masterlist_small.iloc[9,r]:\n",
    "        x = 1 - calculate_attribute_freq(r) \n",
    "    else:\n",
    "        x = 1\n",
    "    return x"
   ]
  },
  {
   "cell_type": "markdown",
   "metadata": {},
   "source": [
    "Calculate $d(X_{i},C_{z})$"
   ]
  },
  {
   "cell_type": "code",
   "execution_count": 52,
   "metadata": {},
   "outputs": [
    {
     "name": "stdout",
     "output_type": "stream",
     "text": [
      "Distance: 4.7\n"
     ]
    }
   ],
   "source": [
    "distance = 0\n",
    "\n",
    "for i in range(masterlist_small.shape[1]):\n",
    "    distance += calculate_ϕ(i)\n",
    "\n",
    "print(\"Distance:\", distance)"
   ]
  },
  {
   "cell_type": "markdown",
   "metadata": {},
   "source": [
    "## Models"
   ]
  },
  {
   "cell_type": "markdown",
   "metadata": {},
   "source": [
    "### ROAD\n",
    "\n",
    "A Rough Clustering Algorithm for Mining Outliers in Categorical Data (Suri, 2012)\n",
    "\n",
    "2 types of errors:\n",
    "- Type 1: either the categorical values describing that object are relatively infrequent\n",
    "- Type 2: the combination of the categorical values describing that object is relatively infrequent"
   ]
  },
  {
   "cell_type": "code",
   "execution_count": 53,
   "metadata": {},
   "outputs": [],
   "source": [
    "data = masterlist"
   ]
  },
  {
   "cell_type": "code",
   "execution_count": 54,
   "metadata": {},
   "outputs": [],
   "source": [
    "# Replace null values differently based on data types\n",
    "for col in data.columns:\n",
    "    data[col] = data[col].fillna('null')  # Replace null values with 'null' for object columns"
   ]
  },
  {
   "cell_type": "markdown",
   "metadata": {},
   "source": [
    "#### Defining optimal K"
   ]
  },
  {
   "cell_type": "code",
   "execution_count": 55,
   "metadata": {},
   "outputs": [
    {
     "name": "stdout",
     "output_type": "stream",
     "text": [
      "Init: initializing centroids\n",
      "Init: initializing clusters\n",
      "Starting iterations...\n",
      "Run 1, iteration: 1/100, moves: 0, cost: 383778.0\n",
      "Init: initializing centroids\n",
      "Init: initializing clusters\n",
      "Starting iterations...\n",
      "Run 2, iteration: 1/100, moves: 0, cost: 383778.0\n",
      "Init: initializing centroids\n",
      "Init: initializing clusters\n",
      "Starting iterations...\n",
      "Run 3, iteration: 1/100, moves: 0, cost: 383778.0\n",
      "Init: initializing centroids\n",
      "Init: initializing clusters\n",
      "Starting iterations...\n",
      "Run 4, iteration: 1/100, moves: 0, cost: 383778.0\n",
      "Init: initializing centroids\n",
      "Init: initializing clusters\n",
      "Starting iterations...\n",
      "Run 5, iteration: 1/100, moves: 0, cost: 383778.0\n",
      "Best run was number 1\n",
      "Init: initializing centroids\n",
      "Init: initializing clusters\n",
      "Starting iterations...\n",
      "Run 1, iteration: 1/100, moves: 13632, cost: 326338.0\n",
      "Run 1, iteration: 2/100, moves: 9204, cost: 323737.0\n",
      "Run 1, iteration: 3/100, moves: 2772, cost: 323737.0\n",
      "Init: initializing centroids\n",
      "Init: initializing clusters\n",
      "Starting iterations...\n",
      "Run 2, iteration: 1/100, moves: 29829, cost: 343619.0\n",
      "Run 2, iteration: 2/100, moves: 5753, cost: 342038.0\n",
      "Run 2, iteration: 3/100, moves: 454, cost: 342038.0\n",
      "Init: initializing centroids\n",
      "Init: initializing clusters\n",
      "Starting iterations...\n",
      "Run 3, iteration: 1/100, moves: 17441, cost: 324345.0\n",
      "Run 3, iteration: 2/100, moves: 4033, cost: 323737.0\n",
      "Run 3, iteration: 3/100, moves: 509, cost: 323737.0\n",
      "Init: initializing centroids\n",
      "Init: initializing clusters\n",
      "Starting iterations...\n",
      "Run 4, iteration: 1/100, moves: 23504, cost: 327472.0\n",
      "Run 4, iteration: 2/100, moves: 1506, cost: 327472.0\n",
      "Init: initializing centroids\n",
      "Init: initializing clusters\n",
      "Starting iterations...\n",
      "Run 5, iteration: 1/100, moves: 5368, cost: 326338.0\n",
      "Best run was number 1\n",
      "Init: initializing centroids\n",
      "Init: initializing clusters\n",
      "Starting iterations...\n",
      "Run 1, iteration: 1/100, moves: 1163, cost: 318119.0\n",
      "Init: initializing centroids\n",
      "Init: initializing clusters\n",
      "Starting iterations...\n",
      "Run 2, iteration: 1/100, moves: 32999, cost: 307551.0\n",
      "Init: initializing centroids\n",
      "Init: initializing clusters\n",
      "Starting iterations...\n",
      "Run 3, iteration: 1/100, moves: 28941, cost: 315487.0\n",
      "Run 3, iteration: 2/100, moves: 304, cost: 315487.0\n",
      "Init: initializing centroids\n",
      "Init: initializing clusters\n",
      "Starting iterations...\n",
      "Run 4, iteration: 1/100, moves: 14018, cost: 305317.0\n",
      "Init: initializing centroids\n",
      "Init: initializing clusters\n",
      "Starting iterations...\n",
      "Run 5, iteration: 1/100, moves: 707, cost: 329584.0\n",
      "Best run was number 4\n",
      "Init: initializing centroids\n",
      "Init: initializing clusters\n",
      "Starting iterations...\n",
      "Run 1, iteration: 1/100, moves: 15287, cost: 297115.0\n",
      "Run 1, iteration: 2/100, moves: 2757, cost: 297115.0\n",
      "Init: initializing centroids\n",
      "Init: initializing clusters\n",
      "Starting iterations...\n",
      "Run 2, iteration: 1/100, moves: 26903, cost: 290782.0\n",
      "Run 2, iteration: 2/100, moves: 2631, cost: 290782.0\n",
      "Init: initializing centroids\n",
      "Init: initializing clusters\n",
      "Starting iterations...\n",
      "Run 3, iteration: 1/100, moves: 36345, cost: 294110.0\n",
      "Run 3, iteration: 2/100, moves: 443, cost: 294110.0\n",
      "Init: initializing centroids\n",
      "Init: initializing clusters\n",
      "Starting iterations...\n",
      "Run 4, iteration: 1/100, moves: 18210, cost: 290161.0\n",
      "Run 4, iteration: 2/100, moves: 10243, cost: 290161.0\n",
      "Init: initializing centroids\n",
      "Init: initializing clusters\n",
      "Starting iterations...\n",
      "Run 5, iteration: 1/100, moves: 9781, cost: 313127.0\n",
      "Run 5, iteration: 2/100, moves: 19, cost: 313127.0\n",
      "Best run was number 4\n"
     ]
    },
    {
     "data": {
      "image/png": "[encoded data removed]",
      "text/plain": [
       "<Figure size 432x288 with 1 Axes>"
      ]
     },
     "metadata": {
      "needs_background": "light"
     },
     "output_type": "display_data"
    }
   ],
   "source": [
    "# Elbow curve to find optimal K -> silhoutte plot / elbow curve\n",
    "cost = []\n",
    "K = range(1,5)\n",
    "for num_clusters in K:\n",
    "    kmode = KModes(n_clusters=num_clusters, init = \"random\", n_init = 5, verbose=1)\n",
    "    kmode.fit_predict(data)\n",
    "    cost.append(kmode.cost_)\n",
    "    \n",
    "plt.plot(K, cost, 'bx-')\n",
    "plt.xlabel('No. of clusters')\n",
    "plt.ylabel('Cost')\n",
    "plt.title('Elbow Method For Optimal k')\n",
    "plt.show()"
   ]
  },
  {
   "cell_type": "markdown",
   "metadata": {},
   "source": [
    "#### Initializing clusters\n",
    "Initialization method according to Cao, Liang, & Bai, 2009. To be coded."
   ]
  },
  {
   "cell_type": "markdown",
   "metadata": {},
   "source": [
    "#### Model\n",
    "Source: https://www.analyticsvidhya.com/blog/2021/06/kmodes-clustering-algorithm-for-categorical-data/"
   ]
  },
  {
   "cell_type": "code",
   "execution_count": 56,
   "metadata": {},
   "outputs": [
    {
     "name": "stdout",
     "output_type": "stream",
     "text": [
      "Init: initializing centroids\n",
      "Init: initializing clusters\n",
      "Starting iterations...\n",
      "Run 1, iteration: 1/100, moves: 20280, cost: 305826.0\n",
      "Init: initializing centroids\n",
      "Init: initializing clusters\n",
      "Starting iterations...\n",
      "Run 2, iteration: 1/100, moves: 18493, cost: 320120.0\n",
      "Run 2, iteration: 2/100, moves: 1130, cost: 320120.0\n",
      "Init: initializing centroids\n",
      "Init: initializing clusters\n",
      "Starting iterations...\n",
      "Run 3, iteration: 1/100, moves: 22572, cost: 319960.0\n",
      "Run 3, iteration: 2/100, moves: 32636, cost: 307231.0\n",
      "Run 3, iteration: 3/100, moves: 2910, cost: 306981.0\n",
      "Run 3, iteration: 4/100, moves: 25, cost: 306981.0\n",
      "Init: initializing centroids\n",
      "Init: initializing clusters\n",
      "Starting iterations...\n",
      "Run 4, iteration: 1/100, moves: 20835, cost: 318716.0\n",
      "Run 4, iteration: 2/100, moves: 807, cost: 318716.0\n",
      "Init: initializing centroids\n",
      "Init: initializing clusters\n",
      "Starting iterations...\n",
      "Run 5, iteration: 1/100, moves: 12675, cost: 320170.0\n",
      "Run 5, iteration: 2/100, moves: 17584, cost: 308148.0\n",
      "Run 5, iteration: 3/100, moves: 6925, cost: 307556.0\n",
      "Run 5, iteration: 4/100, moves: 230, cost: 307556.0\n",
      "Best run was number 1\n"
     ]
    },
    {
     "data": {
      "text/plain": [
       "array([1, 0, 0, ..., 1, 1, 0], dtype=uint16)"
      ]
     },
     "execution_count": 56,
     "metadata": {},
     "output_type": "execute_result"
    }
   ],
   "source": [
    "# Building the model with n clusters\n",
    "# Change value for n_clusters in case you want to run for other amount of clusters\n",
    "kmode = KModes(n_clusters=3, init = \"random\", n_init = 5, verbose=1)\n",
    "clusters = kmode.fit_predict(data)\n",
    "clusters"
   ]
  },
  {
   "cell_type": "markdown",
   "metadata": {},
   "source": [
    "Cluster info on rows"
   ]
  },
  {
   "cell_type": "code",
   "execution_count": 57,
   "metadata": {},
   "outputs": [
    {
     "data": {
      "text/html": [
       "<div>\n",
       "<style scoped>\n",
       "    .dataframe tbody tr th:only-of-type {\n",
       "        vertical-align: middle;\n",
       "    }\n",
       "\n",
       "    .dataframe tbody tr th {\n",
       "        vertical-align: top;\n",
       "    }\n",
       "\n",
       "    .dataframe thead th {\n",
       "        text-align: right;\n",
       "    }\n",
       "</style>\n",
       "<table border=\"1\" class=\"dataframe\">\n",
       "  <thead>\n",
       "    <tr style=\"text-align: right;\">\n",
       "      <th></th>\n",
       "      <th>Cluster</th>\n",
       "      <th>Distance to Closest Centroid</th>\n",
       "      <th>Artnr First 3</th>\n",
       "      <th>Brand</th>\n",
       "      <th>Genart description</th>\n",
       "      <th>PMVA</th>\n",
       "      <th>Axle</th>\n",
       "      <th>Truck</th>\n",
       "      <th>Tractor</th>\n",
       "      <th>PC</th>\n",
       "      <th>Bus</th>\n",
       "    </tr>\n",
       "  </thead>\n",
       "  <tbody>\n",
       "    <tr>\n",
       "      <th>0</th>\n",
       "      <td>1</td>\n",
       "      <td>8.0</td>\n",
       "      <td>914</td>\n",
       "      <td>WABCO</td>\n",
       "      <td>Brake Valve, trailer</td>\n",
       "      <td>0100</td>\n",
       "      <td>0</td>\n",
       "      <td>0</td>\n",
       "      <td>0</td>\n",
       "      <td>0</td>\n",
       "      <td>0</td>\n",
       "    </tr>\n",
       "    <tr>\n",
       "      <th>1</th>\n",
       "      <td>0</td>\n",
       "      <td>7.0</td>\n",
       "      <td>188</td>\n",
       "      <td>SACHS</td>\n",
       "      <td>Clutch Pressure Plate</td>\n",
       "      <td>0100</td>\n",
       "      <td>0</td>\n",
       "      <td>0</td>\n",
       "      <td>1</td>\n",
       "      <td>0</td>\n",
       "      <td>0</td>\n",
       "    </tr>\n",
       "    <tr>\n",
       "      <th>2</th>\n",
       "      <td>0</td>\n",
       "      <td>7.0</td>\n",
       "      <td>271</td>\n",
       "      <td>LEMFÖRDER</td>\n",
       "      <td>Tensioner Pulley, timing belt</td>\n",
       "      <td>0100</td>\n",
       "      <td>0</td>\n",
       "      <td>0</td>\n",
       "      <td>0</td>\n",
       "      <td>1</td>\n",
       "      <td>0</td>\n",
       "    </tr>\n",
       "    <tr>\n",
       "      <th>3</th>\n",
       "      <td>2</td>\n",
       "      <td>7.0</td>\n",
       "      <td>BHT</td>\n",
       "      <td>TRW</td>\n",
       "      <td>Brake Caliper</td>\n",
       "      <td>T001</td>\n",
       "      <td>0</td>\n",
       "      <td>0</td>\n",
       "      <td>0</td>\n",
       "      <td>1</td>\n",
       "      <td>0</td>\n",
       "    </tr>\n",
       "    <tr>\n",
       "      <th>4</th>\n",
       "      <td>0</td>\n",
       "      <td>7.0</td>\n",
       "      <td>997</td>\n",
       "      <td>SACHS</td>\n",
       "      <td>Suspension Spring</td>\n",
       "      <td>0100</td>\n",
       "      <td>0</td>\n",
       "      <td>0</td>\n",
       "      <td>0</td>\n",
       "      <td>1</td>\n",
       "      <td>0</td>\n",
       "    </tr>\n",
       "  </tbody>\n",
       "</table>\n",
       "</div>"
      ],
      "text/plain": [
       "   Cluster  Distance to Closest Centroid Artnr First 3      Brand  \\\n",
       "0        1                           8.0           914      WABCO   \n",
       "1        0                           7.0           188      SACHS   \n",
       "2        0                           7.0           271  LEMFÖRDER   \n",
       "3        2                           7.0           BHT        TRW   \n",
       "4        0                           7.0           997      SACHS   \n",
       "\n",
       "              Genart description  PMVA  Axle  Truck  Tractor  PC  Bus  \n",
       "0           Brake Valve, trailer  0100     0      0        0   0    0  \n",
       "1          Clutch Pressure Plate  0100     0      0        1   0    0  \n",
       "2  Tensioner Pulley, timing belt  0100     0      0        0   1    0  \n",
       "3                  Brake Caliper  T001     0      0        0   1    0  \n",
       "4              Suspension Spring  0100     0      0        0   1    0  "
      ]
     },
     "execution_count": 57,
     "metadata": {},
     "output_type": "execute_result"
    }
   ],
   "source": [
    "# Get the centroids\n",
    "centroids = kmode.cluster_centroids_\n",
    "\n",
    "# Calculate distances of data points to centroids\n",
    "distances = np.zeros(len(data))\n",
    "for j, point in enumerate(data.values):\n",
    "    min_distance = float('inf')\n",
    "    for centroid in centroids:\n",
    "        distance = np.sum(point != centroid)\n",
    "        if distance < min_distance:\n",
    "            min_distance = distance\n",
    "    distances[j] = min_distance\n",
    "\n",
    "# Insert the predicted cluster values and distances in our original dataset\n",
    "data.insert(0, \"Cluster\", clusters, True)\n",
    "data.insert(1, \"Distance to Closest Centroid\", distances, True)\n",
    "\n",
    "data.head()"
   ]
  },
  {
   "cell_type": "markdown",
   "metadata": {},
   "source": [
    "Find Type 2 Outliers according to ROAD algorithm\n",
    "\n",
    "\\* only correct initialization method is missing"
   ]
  },
  {
   "cell_type": "code",
   "execution_count": 58,
   "metadata": {},
   "outputs": [
    {
     "data": {
      "text/html": [
       "<div>\n",
       "<style scoped>\n",
       "    .dataframe tbody tr th:only-of-type {\n",
       "        vertical-align: middle;\n",
       "    }\n",
       "\n",
       "    .dataframe tbody tr th {\n",
       "        vertical-align: top;\n",
       "    }\n",
       "\n",
       "    .dataframe thead th {\n",
       "        text-align: right;\n",
       "    }\n",
       "</style>\n",
       "<table border=\"1\" class=\"dataframe\">\n",
       "  <thead>\n",
       "    <tr style=\"text-align: right;\">\n",
       "      <th></th>\n",
       "      <th>Cluster</th>\n",
       "      <th>Distance to Closest Centroid</th>\n",
       "      <th>Artnr First 3</th>\n",
       "      <th>Brand</th>\n",
       "      <th>Genart description</th>\n",
       "      <th>PMVA</th>\n",
       "      <th>Axle</th>\n",
       "      <th>Truck</th>\n",
       "      <th>Tractor</th>\n",
       "      <th>PC</th>\n",
       "      <th>Bus</th>\n",
       "    </tr>\n",
       "  </thead>\n",
       "  <tbody>\n",
       "    <tr>\n",
       "      <th>50000</th>\n",
       "      <td>1</td>\n",
       "      <td>9.0</td>\n",
       "      <td>SG1</td>\n",
       "      <td>null</td>\n",
       "      <td>Gas Spring</td>\n",
       "      <td>9999</td>\n",
       "      <td>0</td>\n",
       "      <td>0</td>\n",
       "      <td>0</td>\n",
       "      <td>0</td>\n",
       "      <td>0</td>\n",
       "    </tr>\n",
       "    <tr>\n",
       "      <th>69022</th>\n",
       "      <td>0</td>\n",
       "      <td>9.0</td>\n",
       "      <td>842</td>\n",
       "      <td>null</td>\n",
       "      <td>Gas Spring, boot/cargo area</td>\n",
       "      <td>null</td>\n",
       "      <td>0</td>\n",
       "      <td>1</td>\n",
       "      <td>0</td>\n",
       "      <td>1</td>\n",
       "      <td>1</td>\n",
       "    </tr>\n",
       "    <tr>\n",
       "      <th>69025</th>\n",
       "      <td>0</td>\n",
       "      <td>9.0</td>\n",
       "      <td>25-</td>\n",
       "      <td>BOGE</td>\n",
       "      <td>Suspension Spring</td>\n",
       "      <td>1200</td>\n",
       "      <td>0</td>\n",
       "      <td>0</td>\n",
       "      <td>0</td>\n",
       "      <td>1</td>\n",
       "      <td>0</td>\n",
       "    </tr>\n",
       "    <tr>\n",
       "      <th>69030</th>\n",
       "      <td>1</td>\n",
       "      <td>9.0</td>\n",
       "      <td>LKC</td>\n",
       "      <td>LUCAS</td>\n",
       "      <td>Clutch Kit</td>\n",
       "      <td>null</td>\n",
       "      <td>0</td>\n",
       "      <td>0</td>\n",
       "      <td>0</td>\n",
       "      <td>0</td>\n",
       "      <td>0</td>\n",
       "    </tr>\n",
       "    <tr>\n",
       "      <th>69033</th>\n",
       "      <td>0</td>\n",
       "      <td>9.0</td>\n",
       "      <td>LRA</td>\n",
       "      <td>LUCAS</td>\n",
       "      <td>Alternator</td>\n",
       "      <td>null</td>\n",
       "      <td>0</td>\n",
       "      <td>0</td>\n",
       "      <td>0</td>\n",
       "      <td>1</td>\n",
       "      <td>0</td>\n",
       "    </tr>\n",
       "  </tbody>\n",
       "</table>\n",
       "</div>"
      ],
      "text/plain": [
       "       Cluster  Distance to Closest Centroid Artnr First 3  Brand  \\\n",
       "50000        1                           9.0           SG1   null   \n",
       "69022        0                           9.0           842   null   \n",
       "69025        0                           9.0           25-   BOGE   \n",
       "69030        1                           9.0           LKC  LUCAS   \n",
       "69033        0                           9.0           LRA  LUCAS   \n",
       "\n",
       "                Genart description  PMVA  Axle  Truck  Tractor  PC  Bus  \n",
       "50000                   Gas Spring  9999     0      0        0   0    0  \n",
       "69022  Gas Spring, boot/cargo area  null     0      1        0   1    1  \n",
       "69025            Suspension Spring  1200     0      0        0   1    0  \n",
       "69030                   Clutch Kit  null     0      0        0   0    0  \n",
       "69033                   Alternator  null     0      0        0   1    0  "
      ]
     },
     "execution_count": 58,
     "metadata": {},
     "output_type": "execute_result"
    }
   ],
   "source": [
    "Type_2_outliers = data.sort_values(by='Distance to Closest Centroid', ascending=False)\n",
    "Type_2_outliers.head()"
   ]
  },
  {
   "cell_type": "markdown",
   "metadata": {},
   "source": [
    "Cluster 0 - Type 2 Outliers"
   ]
  },
  {
   "cell_type": "code",
   "execution_count": 59,
   "metadata": {},
   "outputs": [
    {
     "data": {
      "text/html": [
       "<div>\n",
       "<style scoped>\n",
       "    .dataframe tbody tr th:only-of-type {\n",
       "        vertical-align: middle;\n",
       "    }\n",
       "\n",
       "    .dataframe tbody tr th {\n",
       "        vertical-align: top;\n",
       "    }\n",
       "\n",
       "    .dataframe thead th {\n",
       "        text-align: right;\n",
       "    }\n",
       "</style>\n",
       "<table border=\"1\" class=\"dataframe\">\n",
       "  <thead>\n",
       "    <tr style=\"text-align: right;\">\n",
       "      <th></th>\n",
       "      <th>Cluster</th>\n",
       "      <th>Distance to Closest Centroid</th>\n",
       "      <th>Artnr First 3</th>\n",
       "      <th>Brand</th>\n",
       "      <th>Genart description</th>\n",
       "      <th>PMVA</th>\n",
       "      <th>Axle</th>\n",
       "      <th>Truck</th>\n",
       "      <th>Tractor</th>\n",
       "      <th>PC</th>\n",
       "      <th>Bus</th>\n",
       "    </tr>\n",
       "  </thead>\n",
       "  <tbody>\n",
       "    <tr>\n",
       "      <th>69022</th>\n",
       "      <td>0</td>\n",
       "      <td>9.0</td>\n",
       "      <td>842</td>\n",
       "      <td>null</td>\n",
       "      <td>Gas Spring, boot/cargo area</td>\n",
       "      <td>null</td>\n",
       "      <td>0</td>\n",
       "      <td>1</td>\n",
       "      <td>0</td>\n",
       "      <td>1</td>\n",
       "      <td>1</td>\n",
       "    </tr>\n",
       "    <tr>\n",
       "      <th>69025</th>\n",
       "      <td>0</td>\n",
       "      <td>9.0</td>\n",
       "      <td>25-</td>\n",
       "      <td>BOGE</td>\n",
       "      <td>Suspension Spring</td>\n",
       "      <td>1200</td>\n",
       "      <td>0</td>\n",
       "      <td>0</td>\n",
       "      <td>0</td>\n",
       "      <td>1</td>\n",
       "      <td>0</td>\n",
       "    </tr>\n",
       "    <tr>\n",
       "      <th>69033</th>\n",
       "      <td>0</td>\n",
       "      <td>9.0</td>\n",
       "      <td>LRA</td>\n",
       "      <td>LUCAS</td>\n",
       "      <td>Alternator</td>\n",
       "      <td>null</td>\n",
       "      <td>0</td>\n",
       "      <td>0</td>\n",
       "      <td>0</td>\n",
       "      <td>1</td>\n",
       "      <td>0</td>\n",
       "    </tr>\n",
       "    <tr>\n",
       "      <th>21707</th>\n",
       "      <td>0</td>\n",
       "      <td>9.0</td>\n",
       "      <td>LRS</td>\n",
       "      <td>LUCAS</td>\n",
       "      <td>Starter</td>\n",
       "      <td>null</td>\n",
       "      <td>0</td>\n",
       "      <td>0</td>\n",
       "      <td>0</td>\n",
       "      <td>1</td>\n",
       "      <td>0</td>\n",
       "    </tr>\n",
       "    <tr>\n",
       "      <th>21704</th>\n",
       "      <td>0</td>\n",
       "      <td>9.0</td>\n",
       "      <td>LGS</td>\n",
       "      <td>LUCAS</td>\n",
       "      <td>Sensor, exhaust gas temperature</td>\n",
       "      <td>null</td>\n",
       "      <td>0</td>\n",
       "      <td>0</td>\n",
       "      <td>0</td>\n",
       "      <td>1</td>\n",
       "      <td>0</td>\n",
       "    </tr>\n",
       "  </tbody>\n",
       "</table>\n",
       "</div>"
      ],
      "text/plain": [
       "       Cluster  Distance to Closest Centroid Artnr First 3  Brand  \\\n",
       "69022        0                           9.0           842   null   \n",
       "69025        0                           9.0           25-   BOGE   \n",
       "69033        0                           9.0           LRA  LUCAS   \n",
       "21707        0                           9.0           LRS  LUCAS   \n",
       "21704        0                           9.0           LGS  LUCAS   \n",
       "\n",
       "                    Genart description  PMVA  Axle  Truck  Tractor  PC  Bus  \n",
       "69022      Gas Spring, boot/cargo area  null     0      1        0   1    1  \n",
       "69025                Suspension Spring  1200     0      0        0   1    0  \n",
       "69033                       Alternator  null     0      0        0   1    0  \n",
       "21707                          Starter  null     0      0        0   1    0  \n",
       "21704  Sensor, exhaust gas temperature  null     0      0        0   1    0  "
      ]
     },
     "execution_count": 59,
     "metadata": {},
     "output_type": "execute_result"
    }
   ],
   "source": [
    "Type_2_outliers[Type_2_outliers['Cluster'] == 0].head()"
   ]
  }
 ],
 "metadata": {
  "kernelspec": {
   "display_name": "Python 3",
   "language": "python",
   "name": "python3"
  },
  "language_info": {
   "codemirror_mode": {
    "name": "ipython",
    "version": 3
   },
   "file_extension": ".py",
   "mimetype": "text/x-python",
   "name": "python",
   "nbconvert_exporter": "python",
   "pygments_lexer": "ipython3",
   "version": "3.9.10"
  },
  "orig_nbformat": 4
 },
 "nbformat": 4,
 "nbformat_minor": 2
}
